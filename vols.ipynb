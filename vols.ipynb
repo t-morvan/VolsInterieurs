{
 "cells": [
  {
   "cell_type": "code",
   "execution_count": 1,
   "id": "89e70a50",
   "metadata": {},
   "outputs": [],
   "source": [
    "import pandas as pd\n",
    "import re\n",
    "import requests\n",
    "import urllib.parse"
   ]
  },
  {
   "cell_type": "code",
   "execution_count": 5,
   "id": "4b95e302",
   "metadata": {},
   "outputs": [],
   "source": [
    "# lat/lon de France métropolitaine + Corse\n",
    "fr_box=[-7.382813,41.129021,11.403809,51.082822]"
   ]
  },
  {
   "cell_type": "code",
   "execution_count": 12,
   "id": "dec3bc79",
   "metadata": {},
   "outputs": [],
   "source": [
    "# crée un dictionnaire aéroport - code administratif de la ville associée\n",
    "gares=pd.read_csv(\"gares.csv\", dtype={'code': str},index_col=\"aeroport\")\n",
    "code_dict=gares[\"code\"].to_dict()"
   ]
  },
  {
   "cell_type": "code",
   "execution_count": 17,
   "id": "79016fa1",
   "metadata": {},
   "outputs": [],
   "source": [
    "# import des vols \n",
    "df=pd.read_csv(\"flights.csv\")\n",
    "# turn : into 0\n",
    "df[df==\":\"]=0\n",
    "# remove nan\n",
    "df=df[:-3]"
   ]
  },
  {
   "cell_type": "code",
   "execution_count": 2,
   "id": "5d4afdca",
   "metadata": {},
   "outputs": [],
   "source": [
    "def obtenir_coord(lieu):\n",
    "    url = 'https://nominatim.openstreetmap.org/search/' + urllib.parse.quote(lieu) +'?format=json'\n",
    "    response = requests.get(url).json()\n",
    "    if len(response)==0:\n",
    "        return None\n",
    "    return response[0][\"lat\"],response[0][\"lon\"]"
   ]
  },
  {
   "cell_type": "code",
   "execution_count": 7,
   "id": "bc95ccb9",
   "metadata": {},
   "outputs": [],
   "source": [
    "# cf l'API de la SNCF et Navitia.io pour la requête\n",
    "def temps_trajet(code_depart,code_arrivee):\n",
    "    url='https://api.sncf.com/v1/coverage/sncf/journeys?from=admin%3Afr%3A{0}&to=admin%3Afr%3A{1}&datetime=20210420T000000&datetime_represents=departure&timeframe_duration=86400&'.format(code_depart,code_arrivee)\n",
    "    params = dict(key=\"insertyourkey\")\n",
    "    res = requests.get(url, params=params).json()\n",
    "    # si pas de trajet retourne un temps 'infini'\n",
    "    try :\n",
    "        trajets=res['journeys']\n",
    "    except KeyError:\n",
    "        return 60*10000\n",
    "    # on prend le trajet le plus court de la journée\n",
    "    temps_min=min([trajet['duration'] for trajet in trajets])\n",
    "    return temps_min"
   ]
  },
  {
   "cell_type": "code",
   "execution_count": 4,
   "id": "a657145b",
   "metadata": {},
   "outputs": [],
   "source": [
    "def in_box(box,lat,lon):\n",
    "    lon=float(lon)\n",
    "    lat=float(lat)\n",
    "    return (lon>box[0])&(lat>box[1])&(lon<box[2])&(lat<box[3])"
   ]
  },
  {
   "cell_type": "code",
   "execution_count": 11,
   "id": "e6b0057f",
   "metadata": {},
   "outputs": [
    {
     "name": "stdout",
     "output_type": "stream",
     "text": [
      "PARIS-ORLY BERGERAC-ROUMANIERE\n",
      "MARIPASO CAYENNE-ROCHAMBEAU\n",
      "SAINT MARTIN, GRAND CASE, GUADELOUPE AIME CESAIRE, MARTINIQUE\n",
      "AIME CESAIRE, MARTINIQUE SAINT MARTIN, GRAND CASE, GUADELOUPE\n",
      "SAINT BARTHELEMY,FRENCH ANTILLES SAINT MARTIN, GRAND CASE, GUADELOUPE\n",
      "POINTE-A-PITRE,LE RAIZET, GUADELOUPE SAINT MARTIN, GRAND CASE, GUADELOUPE\n",
      "SAINT MARTIN, GRAND CASE, GUADELOUPE SAINT BARTHELEMY,FRENCH ANTILLES\n",
      "POINTE-A-PITRE,LE RAIZET, GUADELOUPE SAINT BARTHELEMY,FRENCH ANTILLES\n",
      "SAINT MARTIN, GRAND CASE, GUADELOUPE POINTE-A-PITRE,LE RAIZET, GUADELOUPE\n",
      "SAINT BARTHELEMY,FRENCH ANTILLES POINTE-A-PITRE,LE RAIZET, GUADELOUPE\n"
     ]
    }
   ],
   "source": [
    "links=[]\n",
    "nrow=df.shape[0]\n",
    "\n",
    "for i in range(nrow):\n",
    "    \n",
    "    # sélection des vols intérieurs (dont DOM-TOM)\n",
    "    if not re.search(r\"FR\\_\\w+\\_FR\\w+\",df[\"CODE\"][i]):\n",
    "                continue\n",
    "            \n",
    "    # avant 2001 pas de distinction entre Roissy et Orly, juste Airport System, Paris Airport      \n",
    "    vol=re.sub(\"airport SYSTEM - \",\"\",df[\"PAIR\"][i])\n",
    "    vol=re.sub(\"airport\",\"\",vol)\n",
    "    depart,arrivee=re.split(' - ', vol)\n",
    "    depart=depart[:-1]\n",
    "    arrivee=arrivee[:-1]\n",
    "    \n",
    "    # ajout des coordonnées si trouvés\n",
    "    # affiche les vols dont départ ou arrivée ne sont pas trouvés\n",
    "    try :\n",
    "        lat_d,lon_d=obtenir_coord(depart)\n",
    "        lat_a,lon_a=obtenir_coord(arrivee)\n",
    "    except TypeError: \n",
    "        print(arrivee,depart)\n",
    "        continue\n",
    "        \n",
    "    # garde que France métropolitaine + Corse\n",
    "    if not in_box(fr_box,lat_d,lon_d) or not in_box(fr_box,lat_a,lon_a):\n",
    "        continue\n",
    "\n",
    "    # ajout du temps de parcours en train\n",
    "    temps=temps_trajet(code_dict[depart],code_dict[arrivee])\n",
    "    \n",
    "    # création du dictionnaire\n",
    "    d={}\n",
    "    d[\"lat_d\"]=lat_d\n",
    "    d[\"lon_d\"]=lon_d\n",
    "    d[\"lat_a\"]=lat_a\n",
    "    d[\"lon_a\"]=lon_a\n",
    "    d[\"CODE\"]=df[\"CODE\"][i]\n",
    "    d[\"depart\"]=depart\n",
    "    d[\"arrivee\"]=arrivee\n",
    "    d[\"temps\"]=temps\n",
    "    links.append(d)"
   ]
  },
  {
   "cell_type": "code",
   "execution_count": 12,
   "id": "713de7b3",
   "metadata": {},
   "outputs": [],
   "source": [
    "links_df=pd.DataFrame(links)\n",
    "links_df=links_df.merge(df,how='left',left_on='CODE',right_on='CODE')"
   ]
  },
  {
   "cell_type": "code",
   "execution_count": 14,
   "id": "598c59f7",
   "metadata": {},
   "outputs": [],
   "source": [
    "links_df.to_csv(\"vols.csv\")"
   ]
  }
 ],
 "metadata": {
  "kernelspec": {
   "display_name": "Python 3",
   "language": "python",
   "name": "python3"
  },
  "language_info": {
   "codemirror_mode": {
    "name": "ipython",
    "version": 3
   },
   "file_extension": ".py",
   "mimetype": "text/x-python",
   "name": "python",
   "nbconvert_exporter": "python",
   "pygments_lexer": "ipython3",
   "version": "3.8.8"
  }
 },
 "nbformat": 4,
 "nbformat_minor": 5
}
